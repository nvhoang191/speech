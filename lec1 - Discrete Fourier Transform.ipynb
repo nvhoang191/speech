{
 "cells": [
  {
   "cell_type": "code",
   "execution_count": null,
   "metadata": {},
   "outputs": [],
   "source": [
    "# numpy để xử lý vector\n",
    "# matplotlib.pyplot để vẽ đồ thị\n",
    "# numpy.fft để tính toán biến đổi Fourier nhanh (FFT)\n",
    "import numpy as np\n",
    "import matplotlib.pyplot as plt\n",
    "from numpy.fft import fft"
   ]
  },
  {
   "cell_type": "code",
   "execution_count": null,
   "metadata": {},
   "outputs": [],
   "source": [
    "# Tần suất lấy mẫu 4 lần / giây (4 Hz)\n",
    "fs = 4\n",
    "# Thời gian lấy mẫu 10 giây\n",
    "total_time = 10\n",
    "# Chu kì lấy mẫu 1 / fs\n",
    "Ts = 1.0 / fs\n",
    "# Tổng số lượng mẫu\n",
    "N = int(total_time * fs)\n",
    "# Thời điểm lấy mẫu: 0, Ts, 2Ts, 3Ts, ..., (N-1)Ts\n",
    "t = np.arange(N)*Ts\n",
    "\n",
    "# Direct Component với cường độ bằng 5 (giống dòng điện 1 chiều, không có dao động)\n",
    "dc = 5*np.ones(N)\n",
    "# Thành phần sóng âm có tần số 1Hz, lệch pha 90 độ, cường độ bằng 2\n",
    "comp1hz = 2*np.cos(2*np.pi*t-np.pi/2)\n",
    "# Thành phần sóng âm có tần số 2Hz, lệch pha 0 độ, cường độ bằng 3\n",
    "comp2hz = 3*np.cos(4*np.pi*t)\n",
    "\n",
    "# Tín hiệu thu nhận được = tổng 3 tín hiệu\n",
    "x = dc + comp1hz + comp2hz"
   ]
  },
  {
   "cell_type": "code",
   "execution_count": null,
   "metadata": {},
   "outputs": [],
   "source": [
    "# Vẽ các tín hiệu thành phần\n",
    "fig = plt.figure(figsize=(15,5))\n",
    "ax = plt.subplot(111)\n",
    "ax.plot(t, dc, '--', label='DC')\n",
    "ax.plot(t, comp1hz, '--', label='1 Hz')\n",
    "ax.plot(t, comp2hz, '--', label='2 Hz')\n",
    "# Vẽ tín hiệu\n",
    "ax.plot(t, x, '-', label='Signal')\n",
    "\n",
    "ax.set_xlabel('Time (s)')\n",
    "ax.legend(loc='center left', bbox_to_anchor=(1, 0.5))\n",
    "plt.show()"
   ]
  },
  {
   "cell_type": "code",
   "execution_count": null,
   "metadata": {},
   "outputs": [],
   "source": [
    "# có tín hiệu x[0]...x[N-1]\n",
    "# tìm các tần số và pha của các tín hiệu tuần hoàn tạo nên x\n",
    "# sử dụng gói numpy.fft\n",
    "\n",
    "def runFFT(x):\n",
    "    X = fft(x)\n",
    "    Xabs = np.abs(X)\n",
    "    Xangle = np.angle(X)\n",
    "    return X, Xabs, Xangle\n",
    "\n",
    "X, Xabs, Xangle = runFFT(x)\n",
    "N = X.shape[0]\n",
    "\n",
    "# divide by N (per inverse Fourier Transform)\n",
    "magnitude = Xabs / N\n",
    "\n",
    "fig = plt.figure(figsize=(15,5))\n",
    "ax = plt.subplot(211)\n",
    "ax.stem(np.arange(N)/N*fs, magnitude)\n",
    "ax.set_ylabel('Magnitude')\n",
    "\n",
    "ax = plt.subplot(212)\n",
    "ax.stem(np.arange(N)/N*fs, Xangle*180.0/np.pi)\n",
    "ax.set_xlabel('Frequency (Hz)')\n",
    "ax.set_ylabel('Phase (degree)')\n",
    "plt.yticks([-180, -90, 0, 90, 180])\n",
    "plt.grid(True, axis='y', linestyle='-')\n",
    "\n",
    "plt.show()"
   ]
  },
  {
   "cell_type": "code",
   "execution_count": null,
   "metadata": {},
   "outputs": [],
   "source": [
    "# Khi tín hiệu x là số thực, thường chỉ vẽ một nửa số hệ số X do nửa kia là đối xứng (conjugate)\n",
    "X, Xabs, Xangle = runFFT(x)\n",
    "N = X.shape[0]\n",
    "M = N // 2 + 1\n",
    "X, Xabs, Xangle = X[:M], Xabs[:M], Xangle[:M]\n",
    "\n",
    "# divide by N (per inverse Fourier Transform)\n",
    "magnitude = Xabs / N\n",
    "\n",
    "fig = plt.figure(figsize=(15,5))\n",
    "ax = plt.subplot(211)\n",
    "ax.stem(np.arange(M)/N*fs, magnitude)\n",
    "ax.set_ylabel('Magnitude')\n",
    "\n",
    "ax = plt.subplot(212)\n",
    "ax.stem(np.arange(M)/N*fs, Xangle*180.0/np.pi)\n",
    "ax.set_xlabel('Frequency (Hz)')\n",
    "ax.set_ylabel('Phase (degree)')\n",
    "plt.yticks([-180, -90, 0, 90, 180])\n",
    "plt.grid(True, axis='y', linestyle='-')\n",
    "\n",
    "plt.show()"
   ]
  },
  {
   "cell_type": "code",
   "execution_count": null,
   "metadata": {},
   "outputs": [],
   "source": [
    "# Thử nghe tín hiệu âm thanh thực (tiếng chim hót)\n",
    "from IPython.display import Audio\n",
    "Audio('data/nightingale.wav')"
   ]
  },
  {
   "cell_type": "code",
   "execution_count": null,
   "metadata": {},
   "outputs": [],
   "source": [
    "# Tạo ra nốt La chuẩn với trường độ = 1 giây\n",
    "fs = 44100\n",
    "Ts = 1.0/fs\n",
    "N = int(2*fs)\n",
    "A = 1.0\n",
    "f = 440 # Tần số của nốt La\n",
    "\n",
    "t = np.arange(N)*Ts\n",
    "x = A * np.cos(2*np.pi*f*t)\n",
    "Audio(data=x, rate=fs)"
   ]
  },
  {
   "cell_type": "code",
   "execution_count": null,
   "metadata": {},
   "outputs": [],
   "source": [
    "# Chơi gam Đô trưởng (các nốt Đồ, Rê, Mi, Fa, Son, La, Xi, Đô)\n",
    "fall = [261.63, 293.66, 329.63, 349.23, 392.00, 440.00, 493.88, 523.25]\n",
    "fs = 44100\n",
    "Ts = 1.0/fs\n",
    "N = int(1*fs)\n",
    "A = 1.0\n",
    "\n",
    "xall = []\n",
    "for f in fall:\n",
    "    t = np.arange(N)*Ts\n",
    "    x = A * np.cos(2*np.pi*f*t)\n",
    "    xall.append(x) # ghép các nốt nhạc\n",
    "x = np.hstack(xall)\n",
    "Audio(data=x, rate=fs)"
   ]
  },
  {
   "cell_type": "code",
   "execution_count": null,
   "metadata": {},
   "outputs": [],
   "source": []
  }
 ],
 "metadata": {
  "kernelspec": {
   "display_name": "Python 3",
   "language": "python",
   "name": "python3"
  },
  "language_info": {
   "codemirror_mode": {
    "name": "ipython",
    "version": 3
   },
   "file_extension": ".py",
   "mimetype": "text/x-python",
   "name": "python",
   "nbconvert_exporter": "python",
   "pygments_lexer": "ipython3",
   "version": "3.7.1"
  }
 },
 "nbformat": 4,
 "nbformat_minor": 2
}
